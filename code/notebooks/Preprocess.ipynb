{
 "cells": [
  {
   "attachments": {},
   "cell_type": "markdown",
   "metadata": {},
   "source": [
    "# Preprocess Data"
   ]
  },
  {
   "attachments": {},
   "cell_type": "markdown",
   "metadata": {},
   "source": [
    "## Load data"
   ]
  },
  {
   "cell_type": "code",
   "execution_count": null,
   "metadata": {},
   "outputs": [],
   "source": [
    "from azure.ai.ml import MLClient\n",
    "from azure.identity import DefaultAzureCredential\n",
    "\n",
    "SUBSCRIPTION_ID = \"757c4165-0823-49f7-9678-5a85fe5e17cc\"\n",
    "RESOURCE_GROUP_NAME = \"e2e_aml_ref_imp_ds_rg\"\n",
    "WORKSPACE_NAME = \"entml-dev-machinelearning001\"\n",
    "DATA_ASSET_NAME = \"diabetes_mltable\"\n",
    "DATA_ASSET_VERSION = \"4\"\n",
    "\n",
    "\n",
    "ml_client = MLClient(\n",
    "    credential=DefaultAzureCredential(),\n",
    "    subscription_id=SUBSCRIPTION_ID,\n",
    "    resource_group_name=RESOURCE_GROUP_NAME,\n",
    "    workspace_name=WORKSPACE_NAME,\n",
    ")\n",
    "data_asset = ml_client.data.get(\n",
    "    name=DATA_ASSET_NAME,\n",
    "    version=DATA_ASSET_VERSION,\n",
    ")"
   ]
  },
  {
   "cell_type": "code",
   "execution_count": null,
   "metadata": {},
   "outputs": [],
   "source": [
    "import mltable\n",
    "\n",
    "\n",
    "tbl = mltable.load(data_asset.path)\n",
    "df = tbl.to_pandas_dataframe()\n",
    "df.head()"
   ]
  },
  {
   "attachments": {},
   "cell_type": "markdown",
   "metadata": {},
   "source": [
    "## Train, test split"
   ]
  },
  {
   "cell_type": "code",
   "execution_count": null,
   "metadata": {},
   "outputs": [],
   "source": [
    "from sklearn.model_selection import train_test_split\n",
    "\n",
    "RANDOM_STATE = 0\n",
    "TEST_SIZE = 0.2\n",
    "\n",
    "\n",
    "train, test = train_test_split(\n",
    "    df, test_size=TEST_SIZE, random_state=RANDOM_STATE, shuffle=True\n",
    ")"
   ]
  },
  {
   "cell_type": "code",
   "execution_count": null,
   "metadata": {},
   "outputs": [],
   "source": [
    "import pandas as pd\n",
    "from sklearn.preprocessing import StandardScaler\n",
    "\n",
    "\n",
    "scaler = StandardScaler(copy=True, with_mean=True, with_std=True)\n",
    "scaler_model = scaler.fit(train)\n",
    "train_norm_df = pd.DataFrame(data=scaler_model.transform(train), columns=df.columns)\n",
    "test_norm_df = pd.DataFrame(data=scaler_model.transform(test), columns=df.columns)"
   ]
  },
  {
   "cell_type": "code",
   "execution_count": null,
   "metadata": {},
   "outputs": [],
   "source": [
    "train_norm_df.head()"
   ]
  },
  {
   "cell_type": "code",
   "execution_count": null,
   "metadata": {},
   "outputs": [],
   "source": [
    "test_norm_df.head()"
   ]
  },
  {
   "cell_type": "code",
   "execution_count": null,
   "metadata": {},
   "outputs": [],
   "source": [
    "mean = {f\"{scaler_model.feature_names_in_[i]}_mean\": scaler_model.mean_[i] for i in range(len(scaler_model.feature_names_in_))}\n",
    "scale = {f\"{scaler_model.feature_names_in_[i]}_std\": scaler_model.scale_[i] for i in range(len(scaler_model.feature_names_in_))}"
   ]
  }
 ],
 "metadata": {
  "kernelspec": {
   "display_name": ".venv",
   "language": "python",
   "name": "python3"
  },
  "language_info": {
   "codemirror_mode": {
    "name": "ipython",
    "version": 3
   },
   "file_extension": ".py",
   "mimetype": "text/x-python",
   "name": "python",
   "nbconvert_exporter": "python",
   "pygments_lexer": "ipython3",
   "version": "3.10.9"
  },
  "orig_nbformat": 4,
  "vscode": {
   "interpreter": {
    "hash": "28097303e991f1cb24f055802377c0e3e978f504a4488b5e5899a2fabea7141e"
   }
  }
 },
 "nbformat": 4,
 "nbformat_minor": 2
}
