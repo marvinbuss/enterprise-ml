{
  "cells": [
    {
      "cell_type": "markdown",
      "source": [
        "Finally, we need to specify a version for the data and components we will create while running this notebook. This should be unique for the workspace, but the specific value doesn't matter:"
      ],
      "metadata": {},
      "id": "7402748c"
    },
    {
      "cell_type": "markdown",
      "source": [
        "## Configure workspace details and get a handle to the workspace\n",
        "\n",
        "To connect to a workspace, we need identifier parameters - a subscription, resource group and workspace name. We will use these details in the MLClient from `azure.ai.ml` to get a handle to the required Azure Machine Learning workspace."
      ],
      "metadata": {},
      "id": "21914b99"
    },
    {
      "cell_type": "code",
      "source": [
        "# Enter details of your AML workspace\n",
        "subscription_id = \"757c4165-0823-49f7-9678-5a85fe5e17cc\"\n",
        "resource_group = \"amlss\"\n",
        "workspace = \"amlss\""
      ],
      "outputs": [],
      "execution_count": 1,
      "metadata": {
        "gather": {
          "logged": 1675034526881
        }
      },
      "id": "afd018cb"
    },
    {
      "cell_type": "code",
      "source": [
        "# Handle to the workspace\n",
        "from azure.ai.ml import MLClient\n",
        "from azure.identity import DefaultAzureCredential\n",
        "\n",
        "credential = DefaultAzureCredential()\n",
        "ml_client = MLClient(\n",
        "    credential=credential,\n",
        "    subscription_id=subscription_id,\n",
        "    resource_group_name=resource_group,\n",
        "    workspace_name=workspace,\n",
        ")\n",
        "print(ml_client)"
      ],
      "outputs": [
        {
          "output_type": "stream",
          "name": "stdout",
          "text": "MLClient(credential=<azure.identity._credentials.default.DefaultAzureCredential object at 0x7f1892e9ceb0>,\n         subscription_id=757c4165-0823-49f7-9678-5a85fe5e17cc,\n         resource_group_name=amlss,\n         workspace_name=amlss)\n"
        }
      ],
      "execution_count": 2,
      "metadata": {
        "gather": {
          "logged": 1675034531324
        }
      },
      "id": "d70782e6"
    },
    {
      "cell_type": "code",
      "source": [
        "# Get handle to azureml registry for the RAI built in components\n",
        "registry_name = \"amlss\"\n",
        "ml_client_registry = MLClient(\n",
        "    credential=credential,\n",
        "    subscription_id=subscription_id,\n",
        "    resource_group_name=resource_group,\n",
        "    registry_name=registry_name,\n",
        ")\n",
        "print(ml_client_registry)"
      ],
      "outputs": [
        {
          "output_type": "stream",
          "name": "stdout",
          "text": "MLClient(credential=<azure.identity._credentials.default.DefaultAzureCredential object at 0x7f1892e9ceb0>,\n         subscription_id=757c4165-0823-49f7-9678-5a85fe5e17cc,\n         resource_group_name=amlss,\n         workspace_name=None)\n"
        }
      ],
      "execution_count": 3,
      "metadata": {
        "gather": {
          "logged": 1675034535119
        }
      },
      "id": "ff51070e"
    },
    {
      "cell_type": "markdown",
      "source": [
        "MLFlow by default sees the workspace registry uri not standalone registry uri."
      ],
      "metadata": {
        "nteract": {
          "transient": {
            "deleting": false
          }
        }
      },
      "id": "6ab8161f-0355-4567-b094-a1d66eeba6c3"
    },
    {
      "cell_type": "code",
      "source": [
        "import mlflow\r\n",
        "\r\n",
        "mlf_client = mlflow.tracking.MlflowClient()\r\n",
        "\r\n",
        "ws_reg_uri=mlflow.get_registry_uri()\r\n",
        "print(ws_reg_uri)"
      ],
      "outputs": [
        {
          "output_type": "stream",
          "name": "stdout",
          "text": "azureml://northeurope.api.azureml.ms/mlflow/v1.0/subscriptions/757c4165-0823-49f7-9678-5a85fe5e17cc/resourceGroups/amlss/providers/Microsoft.MachineLearningServices/workspaces/amlss\n"
        }
      ],
      "execution_count": 4,
      "metadata": {
        "gather": {
          "logged": 1675034548035
        }
      },
      "id": "d9a93781"
    },
    {
      "cell_type": "markdown",
      "source": [
        "If you want to utilize the standalone registry you can set the registry with `mlflow.set_registry_uri`.\r\n",
        "This method can be used also switch from registry to registry for the **DEV to TEST** or **TEST to PROD** promotion process to switch betwen registries."
      ],
      "metadata": {
        "nteract": {
          "transient": {
            "deleting": false
          }
        }
      },
      "id": "b3f91614-f1eb-408c-8f63-54611b8b2134"
    },
    {
      "cell_type": "code",
      "source": [
        "mlflow.set_registry_uri(\"URI FOR REGISTRY OR WORKSPACE\")\r\n",
        "#Registry:\r\n",
        "#azureml://northeurope.api.azureml.ms/mlflow/v1.0/subscriptions/757c4165-0823-49f7-9678-5a85fe5e17cc/resourceGroups/amlss/providers/Microsoft.MachineLearningServices/registries/amlss\r\n",
        "#Workspace:\r\n",
        "#azureml://northeurope.api.azureml.ms/mlflow/v1.0/subscriptions/757c4165-0823-49f7-9678-5a85fe5e17cc/resourceGroups/amlss/providers/Microsoft.MachineLearningServices/workspaces/amlss"
      ],
      "outputs": [],
      "execution_count": null,
      "metadata": {
        "jupyter": {
          "source_hidden": false,
          "outputs_hidden": false
        },
        "nteract": {
          "transient": {
            "deleting": false
          }
        }
      },
      "id": "c6cb7ebd-1981-43dd-b79c-279bb0496f59"
    },
    {
      "cell_type": "markdown",
      "source": [
        "**Development Operations**\r\n",
        "\r\n",
        "To have a clean work environment and easly accessible logging defining Experiment Details is a good practice. within one experiments you can have multiple runs. At the end the Model will be logged with the runID."
      ],
      "metadata": {
        "nteract": {
          "transient": {
            "deleting": false
          }
        }
      },
      "id": "3600b27a-6c15-4b93-aba3-9ec306e66e23"
    },
    {
      "cell_type": "code",
      "source": [
        "experiment = mlflow.set_experiment(\"Promotion Experiments\")\r\n",
        "#experiment = mlflow.get_experiment_by_name(\"Default\")\r\n",
        "print(\"Experiment_id: {}\".format(experiment.experiment_id))\r\n",
        "print(\"Artifact Location: {}\".format(experiment.artifact_location))\r\n",
        "print(\"Tags: {}\".format(experiment.tags))\r\n",
        "print(\"Lifecycle_stage: {}\".format(experiment.lifecycle_stage))\r\n",
        "print(\"Creation timestamp: {}\".format(experiment.creation_time))\r\n"
      ],
      "outputs": [
        {
          "output_type": "stream",
          "name": "stderr",
          "text": "2023/01/29 23:22:33 INFO mlflow.tracking.fluent: Experiment with name 'Promotion Experiments' does not exist. Creating a new experiment.\n"
        },
        {
          "output_type": "stream",
          "name": "stdout",
          "text": "Experiment_id: f763f5aa-41c6-45b0-8dfb-848e2c04b538\nArtifact Location: \nTags: {}\nLifecycle_stage: active\nCreation timestamp: 1675034554845\n"
        }
      ],
      "execution_count": 5,
      "metadata": {
        "jupyter": {
          "source_hidden": false,
          "outputs_hidden": false
        },
        "nteract": {
          "transient": {
            "deleting": false
          }
        },
        "gather": {
          "logged": 1675034554962
        }
      },
      "id": "0eab323b-1393-4d78-b7ea-6d522e64a805"
    },
    {
      "cell_type": "markdown",
      "source": [
        "Lets train a simple model to be able to register. we will be working with iris dataset for simplycity"
      ],
      "metadata": {
        "nteract": {
          "transient": {
            "deleting": false
          }
        }
      },
      "id": "97f14c2a-fe72-483e-baf1-7d33bac6bc1a"
    },
    {
      "cell_type": "code",
      "source": [
        "import mlflow.sklearn\r\n",
        "\r\n",
        "from sklearn.datasets import load_iris\r\n",
        "from sklearn import tree\r\n",
        "\r\n",
        "iris = load_iris()"
      ],
      "outputs": [],
      "execution_count": 6,
      "metadata": {
        "jupyter": {
          "source_hidden": false,
          "outputs_hidden": false
        },
        "nteract": {
          "transient": {
            "deleting": false
          }
        },
        "gather": {
          "logged": 1675034583993
        }
      },
      "id": "53e6cc34-6546-433c-91ad-d271f7ab456f"
    },
    {
      "cell_type": "markdown",
      "source": [
        "You can either create a run and refer to run object or use a withclouse and do every step within with clause. for notebook usage creating a run object (Second option) is more feasable."
      ],
      "metadata": {
        "nteract": {
          "transient": {
            "deleting": false
          }
        }
      },
      "id": "5fd18e79-8e77-4f40-9745-1aad04e17c21"
    },
    {
      "cell_type": "code",
      "source": [
        "import time\r\n",
        "run_name_suffix = int(time.time())\r\n",
        "run_name = f\"flower_runs_{run_name_suffix}\"\r\n",
        "print(run_name)"
      ],
      "outputs": [
        {
          "output_type": "stream",
          "name": "stdout",
          "text": "flower_runs_1675034609\n"
        }
      ],
      "execution_count": 7,
      "metadata": {
        "jupyter": {
          "source_hidden": false,
          "outputs_hidden": false
        },
        "nteract": {
          "transient": {
            "deleting": false
          }
        },
        "gather": {
          "logged": 1675034609415
        }
      },
      "id": "515e9601-b634-4e2e-b03d-fb1d0a754da0"
    },
    {
      "cell_type": "code",
      "source": [
        "# Option 1\r\n",
        "\r\n",
        "with mlflow.start_run(run_name=run_name) as run:\r\n",
        "    mlflow.log_metric('mymetric', 1)\r\n",
        "    mlflow.log_metric('anothermetric',1)"
      ],
      "outputs": [],
      "execution_count": 8,
      "metadata": {
        "jupyter": {
          "source_hidden": false,
          "outputs_hidden": false
        },
        "nteract": {
          "transient": {
            "deleting": false
          }
        },
        "gather": {
          "logged": 1675034621841
        }
      },
      "id": "6c64b4a8-93d8-43bd-88d5-a80ff9134d95"
    },
    {
      "cell_type": "code",
      "source": [
        "mlflow.end_run()"
      ],
      "outputs": [],
      "execution_count": 9,
      "metadata": {
        "jupyter": {
          "source_hidden": false,
          "outputs_hidden": false
        },
        "nteract": {
          "transient": {
            "deleting": false
          }
        },
        "gather": {
          "logged": 1675034648679
        }
      },
      "id": "5a4982ef-2709-4872-b5a2-62ec267c7e0e"
    },
    {
      "cell_type": "code",
      "source": [
        "# Option 2\r\n",
        "\r\n",
        "mlflow_run = mlflow.start_run(run_name=run_name)"
      ],
      "outputs": [],
      "execution_count": 10,
      "metadata": {
        "jupyter": {
          "source_hidden": false,
          "outputs_hidden": false
        },
        "nteract": {
          "transient": {
            "deleting": false
          }
        },
        "gather": {
          "logged": 1675034652777
        }
      },
      "id": "1dc9fd23-702f-4cf8-a048-9e6a5417de77"
    },
    {
      "cell_type": "markdown",
      "source": [
        "You can access the information about the run from the run object instance:"
      ],
      "metadata": {
        "nteract": {
          "transient": {
            "deleting": false
          }
        }
      },
      "id": "487da9b7-b38d-4797-a894-84dbddb0fe26"
    },
    {
      "cell_type": "code",
      "source": [
        "print(\"Active run_id: {}\".format(mlflow_run.info.run_id))\r\n",
        "\r\n",
        "print(\"Active run_name: {}\".format(mlflow_run.info.run_name))"
      ],
      "outputs": [
        {
          "output_type": "stream",
          "name": "stdout",
          "text": "Active run_id: f4aff1e7-2802-486e-aab4-f3e72aa10156\nActive run_name: flower_runs_1675034609\n"
        }
      ],
      "execution_count": 11,
      "metadata": {
        "jupyter": {
          "source_hidden": false,
          "outputs_hidden": false
        },
        "nteract": {
          "transient": {
            "deleting": false
          }
        },
        "gather": {
          "logged": 1675034657565
        }
      },
      "id": "2985e6f4-a5c7-4cf9-bcde-48428fa080c8"
    },
    {
      "cell_type": "markdown",
      "source": [
        "If you need to end the active run you can do it as below:"
      ],
      "metadata": {
        "nteract": {
          "transient": {
            "deleting": false
          }
        }
      },
      "id": "d0bd4294-a8f3-452d-b4ae-cbfbaff31f79"
    },
    {
      "cell_type": "code",
      "source": [
        "# mlflow.end_run()"
      ],
      "outputs": [],
      "execution_count": null,
      "metadata": {
        "jupyter": {
          "source_hidden": false,
          "outputs_hidden": false
        },
        "nteract": {
          "transient": {
            "deleting": false
          }
        },
        "gather": {
          "logged": 1674812932448
        }
      },
      "id": "2598dce2-6464-4aa3-bd0d-3b2b5b70e5ed"
    },
    {
      "cell_type": "markdown",
      "source": [
        "**Methods of registering a model **\r\n",
        "\r\n",
        "**1.Simplest way: Using autologging capabilities:**\r\n",
        "\r\n",
        "If you want to have more control in model registration you can turn off the `log_models=False` and use other methods."
      ],
      "metadata": {
        "nteract": {
          "transient": {
            "deleting": false
          }
        }
      },
      "id": "fb4073a5-675f-4e0c-873d-a810885f25c2"
    },
    {
      "cell_type": "markdown",
      "source": [
        "We can initiate autologging of all produced metrics and artifacts including model itself by initiating mlflow autologging capabilities. This can be done either by using generic built in autologging in mlflow or `mlflow.autolog` or outologging capabilities specialized for integrated libraries like sklearn or xgboost etc.\r\n",
        "\r\n",
        "All paremeters defailt mlflow logging that mlflow.autolog can get and their default values:\r\n",
        "\r\n",
        "```\r\n",
        "mlflow.autolog(log_input_examples: bool = False, \r\n",
        "               log_model_signatures: bool = True, log_models: bool = True, \r\n",
        "               disable: bool = False, exclusive: bool = False, \r\n",
        "               disable_for_unsupported_versions: bool = False, \r\n",
        "               silent: bool = False)\r\n",
        "```\r\n",
        "All paremeters that mlflow.sklearn.autolog can get and their default values:\r\n",
        "\r\n",
        "```\r\n",
        "mlflow.sklearn.autolog(log_input_examples=False, log_model_signatures=True\r\n",
        "                     , log_models=False, disable=False, exclusive=False\r\n",
        "                     , disable_for_unsupported_versions=False, silent=False\r\n",
        "                     , max_tuning_runs=5, log_post_training_metrics=True\r\n",
        "                     , serialization_format='cloudpickle'\r\n",
        "                     , registered_model_name=None, pos_label=None)\r\n",
        "```"
      ],
      "metadata": {
        "nteract": {
          "transient": {
            "deleting": false
          }
        }
      },
      "id": "a0d66d3d-70a5-4eda-9b8c-6b3dfc5cf2e4"
    },
    {
      "cell_type": "code",
      "source": [
        "# If log_models True, trained models are logged as MLflow model artifacts. \r\n",
        "# If False, trained models are not logged. Input examples and model signatures, \r\n",
        "# which are attributes of MLflow models, are also omitted when log_models is False.\r\n",
        "mlflow.autolog(log_models=False)\r\n"
      ],
      "outputs": [
        {
          "output_type": "stream",
          "name": "stderr",
          "text": "2023/01/29 23:24:37 WARNING mlflow.utils.autologging_utils: You are using an unsupported version of sklearn. If you encounter errors during autologging, try upgrading / downgrading sklearn to a supported version, or try upgrading MLflow.\n2023/01/29 23:24:37 INFO mlflow.tracking.fluent: Autologging successfully enabled for sklearn.\n"
        }
      ],
      "execution_count": 12,
      "metadata": {
        "jupyter": {
          "source_hidden": false,
          "outputs_hidden": false
        },
        "nteract": {
          "transient": {
            "deleting": false
          }
        },
        "gather": {
          "logged": 1675034677620
        }
      },
      "id": "245b642c-d92d-45c9-9003-9975e05dff4f"
    },
    {
      "cell_type": "markdown",
      "source": [
        "Below is a sample logging and model training/fitting flow to be able to get a showcase model.\r\n",
        "since we turned off modellogging for autologging, the model wont be logged after executing below code block:"
      ],
      "metadata": {
        "nteract": {
          "transient": {
            "deleting": false
          }
        }
      },
      "id": "891a72f7-b5d0-468f-90ff-9e51f6bc42e8"
    },
    {
      "cell_type": "code",
      "source": [
        "\r\n",
        "from sklearn.model_selection import train_test_split\r\n",
        "\r\n",
        "# X -> features, y -> label\r\n",
        "X = iris.data\r\n",
        "y = iris.target\r\n",
        "\r\n",
        "# dividing X, y into train and test data\r\n",
        "X_train, X_test, y_train, y_test = train_test_split(X, y, random_state=0)\r\n",
        "\r\n",
        "from sklearn.metrics import confusion_matrix,accuracy_score\r\n",
        "\r\n",
        "\r\n",
        "sk_model = tree.DecisionTreeClassifier()\r\n",
        "sk_model = sk_model.fit(iris.data, iris.target)\r\n",
        "# set the artifact_path to location where experiment artifacts will be saved\r\n",
        "y_pred = sk_model.predict(X_test)\r\n",
        "\r\n",
        "accuracy = accuracy_score(y_test, y_pred)\r\n",
        "\r\n",
        "# Signature\r\n",
        "signature = mlflow.models.signature.infer_signature(X_test, y_pred)  \r\n",
        "\r\n",
        "mlflow.log_metric('Accuracy', float(accuracy))\r\n",
        "# creating a confusion matrix\r\n",
        "cm = confusion_matrix(y_test, y_pred)\r\n",
        "print(cm)\r\n",
        "mlflow.log_param(\"criterion\", sk_model.criterion)\r\n",
        "mlflow.log_param(\"splitter\", sk_model.splitter)\r\n"
      ],
      "outputs": [
        {
          "output_type": "stream",
          "name": "stdout",
          "text": "[[13  0  0]\n [ 0 16  0]\n [ 0  0  9]]\n"
        },
        {
          "output_type": "execute_result",
          "execution_count": 13,
          "data": {
            "text/plain": "'best'"
          },
          "metadata": {}
        }
      ],
      "execution_count": 13,
      "metadata": {
        "jupyter": {
          "source_hidden": false,
          "outputs_hidden": false
        },
        "nteract": {
          "transient": {
            "deleting": false
          }
        },
        "gather": {
          "logged": 1675034683771
        }
      },
      "id": "aa51db7e-1a4c-46c0-b070-5795e040e67a"
    },
    {
      "cell_type": "markdown",
      "source": [
        "**2. Manually logging with `log_model`**"
      ],
      "metadata": {
        "nteract": {
          "transient": {
            "deleting": false
          }
        }
      },
      "id": "f6a62032-efbb-40ca-be4a-8d82fc4e0b7a"
    },
    {
      "cell_type": "code",
      "source": [
        "model_name=\"flower_model\""
      ],
      "outputs": [],
      "execution_count": 14,
      "metadata": {
        "jupyter": {
          "source_hidden": false,
          "outputs_hidden": false
        },
        "nteract": {
          "transient": {
            "deleting": false
          }
        },
        "gather": {
          "logged": 1675034689643
        }
      },
      "id": "148e2bbb-ca64-40e5-87fc-97a6745e9a4b"
    },
    {
      "cell_type": "code",
      "source": [
        "\r\n",
        "registered_model_name=f\"{model_name}_MANUAL_LOG_MODEL\"\r\n",
        "\r\n",
        "# Registering the model to the workspace, within an ml run\r\n",
        "# not every parameter of native mlflow.sklearn.log_model can be used, \r\n",
        "# for example we can not use metadata to log additional information about the model.\r\n",
        "print(\"Registering the model via MLFlow\")\r\n",
        "model_log=mlflow.sklearn.log_model(\r\n",
        "    sk_model=sk_model,\r\n",
        "    registered_model_name=registered_model_name,\r\n",
        "    artifact_path=registered_model_name\r\n",
        ")"
      ],
      "outputs": [
        {
          "output_type": "stream",
          "name": "stdout",
          "text": "Registering the model via MLFlow\n"
        },
        {
          "output_type": "stream",
          "name": "stderr",
          "text": "/anaconda/envs/azureml_py310_sdkv2/lib/python3.10/site-packages/_distutils_hack/__init__.py:33: UserWarning: Setuptools is replacing distutils.\n  warnings.warn(\"Setuptools is replacing distutils.\")\nSuccessfully registered model 'flower_model_MANUAL_LOG_MODEL'.\n2023/01/29 23:25:03 INFO mlflow.tracking._model_registry.client: Waiting up to 300 seconds for model version to finish creation.                     Model name: flower_model_MANUAL_LOG_MODEL, version 1\nCreated version '1' of model 'flower_model_MANUAL_LOG_MODEL'.\n"
        }
      ],
      "execution_count": 15,
      "metadata": {
        "jupyter": {
          "source_hidden": false,
          "outputs_hidden": false
        },
        "nteract": {
          "transient": {
            "deleting": false
          }
        },
        "gather": {
          "logged": 1675034703465
        }
      },
      "id": "bed25247-a5cb-4cdd-9ff4-2cd230fe2757"
    },
    {
      "cell_type": "markdown",
      "source": [
        "![mlflow.sklearn.log_model execution result view in workspace ui](./media/ws_model_registration_UI.png)"
      ],
      "metadata": {
        "nteract": {
          "transient": {
            "deleting": false
          }
        }
      },
      "id": "7e8457f6-e534-4290-93aa-468936d5659c"
    },
    {
      "cell_type": "markdown",
      "source": [
        "You can fetch details like model uri from loggin operation to use in further steps:"
      ],
      "metadata": {
        "nteract": {
          "transient": {
            "deleting": false
          }
        }
      },
      "id": "cf832ba1-bcc0-4d8b-a830-1a26cffd6115"
    },
    {
      "cell_type": "code",
      "source": [
        "print(model_log.model_uri)"
      ],
      "outputs": [
        {
          "output_type": "stream",
          "name": "stdout",
          "text": "runs:/f4aff1e7-2802-486e-aab4-f3e72aa10156/flower_model_MANUAL_LOG_MODEL\n"
        }
      ],
      "execution_count": 16,
      "metadata": {
        "jupyter": {
          "source_hidden": false,
          "outputs_hidden": false
        },
        "nteract": {
          "transient": {
            "deleting": false
          }
        },
        "gather": {
          "logged": 1675034726563
        }
      },
      "id": "7072b47f-a9d0-4842-845a-ce537c222e07"
    },
    {
      "cell_type": "markdown",
      "source": [
        "**3. Register the model with REGISTER_MODEL by URI**\r\n",
        "\r\n",
        "You can  purposefully register an already logged  model with its uri"
      ],
      "metadata": {
        "nteract": {
          "transient": {
            "deleting": false
          }
        }
      },
      "id": "ce971f42-c8fe-4f28-8b0d-a79a5755dd2c"
    },
    {
      "cell_type": "code",
      "source": [
        "# Registering the model to the workspace with tagging (log_model does not allow us to use tags) \r\n",
        "print(\"Registering the model via MLFlow\")\r\n",
        "\r\n",
        "registered_model_name=f\"{model_name}_REGISTER_WITH_MODEL_URI\"\r\n",
        "# options : (model_uri, name, await_registration_for=300, *, tags: Optional[Dict[str, Any]] = None)\r\n",
        "result = mlflow.register_model(\r\n",
        "    model_uri = model_log.model_uri,\r\n",
        "    name = registered_model_name,\r\n",
        ")\r\n",
        "\r\n",
        "print(result)"
      ],
      "outputs": [
        {
          "output_type": "stream",
          "name": "stderr",
          "text": "Successfully registered model 'flower_model_REGISTER_WITH_MODEL_URI'.\n2023/01/29 23:25:36 INFO mlflow.tracking._model_registry.client: Waiting up to 300 seconds for model version to finish creation.                     Model name: flower_model_REGISTER_WITH_MODEL_URI, version 1\nCreated version '1' of model 'flower_model_REGISTER_WITH_MODEL_URI'.\n"
        }
      ],
      "execution_count": 17,
      "metadata": {
        "jupyter": {
          "source_hidden": false,
          "outputs_hidden": false
        },
        "nteract": {
          "transient": {
            "deleting": false
          }
        },
        "gather": {
          "logged": 1675034736127
        }
      },
      "id": "954df466-183a-4a32-a5d1-0a47a43fd4b6"
    },
    {
      "cell_type": "code",
      "source": [
        "print(result.version)"
      ],
      "outputs": [
        {
          "output_type": "stream",
          "name": "stdout",
          "text": "1\n"
        }
      ],
      "execution_count": 18,
      "metadata": {
        "jupyter": {
          "source_hidden": false,
          "outputs_hidden": false
        },
        "nteract": {
          "transient": {
            "deleting": false
          }
        },
        "gather": {
          "logged": 1675034773163
        }
      },
      "id": "2da0abc8-8b9b-4775-86c3-c00d3ba59f48"
    },
    {
      "cell_type": "markdown",
      "source": [
        "You can set additional tagging information which can be usefull in identifying details related to previous registries workspaces of the model, for example we are here adding two tags, DW:dev workspace, DV:dev version with the assumption of model names will be kept same in every workspace/registery"
      ],
      "metadata": {
        "nteract": {
          "transient": {
            "deleting": false
          }
        }
      },
      "id": "c7c33e74-526b-4443-8a29-2acfad0d2d7c"
    },
    {
      "cell_type": "code",
      "source": [
        "mlf_client.set_model_version_tag(registered_model_name, result.version, key=\"DW\", value=\"amlss\")\r\n",
        "mlf_client.set_model_version_tag(registered_model_name, result.version, key=\"DV\", value=\"1\")\r\n",
        "mlf_client.set_model_version_tag(registered_model_name, result.version, key=\"status\", value=\"draft\")"
      ],
      "outputs": [],
      "execution_count": 19,
      "metadata": {
        "jupyter": {
          "source_hidden": false,
          "outputs_hidden": false
        },
        "nteract": {
          "transient": {
            "deleting": false
          }
        },
        "gather": {
          "logged": 1675034779542
        }
      },
      "id": "46efdf01-1f8a-4cc4-bb19-37475880fd7f"
    },
    {
      "cell_type": "markdown",
      "source": [
        "You can also remove  a TAG  with `delete_model_version_tag(model_name, version=\"version_id\", key=\"key_name\")`"
      ],
      "metadata": {
        "nteract": {
          "transient": {
            "deleting": false
          }
        }
      },
      "id": "0f31814b-9a70-43dc-a8eb-f21010189fda"
    },
    {
      "cell_type": "code",
      "source": [
        "mlf_client.delete_model_version_tag(registered_model_name, version=result.version, key=\"status\")"
      ],
      "outputs": [
        {
          "output_type": "error",
          "ename": "MlflowException",
          "evalue": "API request to endpoint /api/2.0/preview/mlflow/model-versions/delete-tag failed with error code 404 != 200. Response body: ''",
          "traceback": [
            "\u001b[0;31m---------------------------------------------------------------------------\u001b[0m",
            "\u001b[0;31mMlflowException\u001b[0m                           Traceback (most recent call last)",
            "Input \u001b[0;32mIn [21]\u001b[0m, in \u001b[0;36m<cell line: 1>\u001b[0;34m()\u001b[0m\n\u001b[0;32m----> 1\u001b[0m \u001b[43mmlf_client\u001b[49m\u001b[38;5;241;43m.\u001b[39;49m\u001b[43mdelete_model_version_tag\u001b[49m\u001b[43m(\u001b[49m\u001b[43mregistered_model_name\u001b[49m\u001b[43m,\u001b[49m\u001b[43m \u001b[49m\u001b[43mversion\u001b[49m\u001b[38;5;241;43m=\u001b[39;49m\u001b[43mresult\u001b[49m\u001b[38;5;241;43m.\u001b[39;49m\u001b[43mversion\u001b[49m\u001b[43m,\u001b[49m\u001b[43m \u001b[49m\u001b[43mkey\u001b[49m\u001b[38;5;241;43m=\u001b[39;49m\u001b[38;5;124;43m\"\u001b[39;49m\u001b[38;5;124;43mstatus\u001b[39;49m\u001b[38;5;124;43m\"\u001b[39;49m\u001b[43m)\u001b[49m\n",
            "File \u001b[0;32m/anaconda/envs/azureml_py310_sdkv2/lib/python3.10/site-packages/mlflow/tracking/client.py:3028\u001b[0m, in \u001b[0;36mMlflowClient.delete_model_version_tag\u001b[0;34m(self, name, version, key, stage)\u001b[0m\n\u001b[1;32m   3022\u001b[0m         \u001b[38;5;28;01mraise\u001b[39;00m MlflowException(\n\u001b[1;32m   3023\u001b[0m             \u001b[38;5;124m\"\u001b[39m\u001b[38;5;124mCould not find any model version for \u001b[39m\u001b[38;5;132;01m{}\u001b[39;00m\u001b[38;5;124m stage\u001b[39m\u001b[38;5;124m\"\u001b[39m\u001b[38;5;241m.\u001b[39mformat(\n\u001b[1;32m   3024\u001b[0m                 stage,\n\u001b[1;32m   3025\u001b[0m             )\n\u001b[1;32m   3026\u001b[0m         )\n\u001b[1;32m   3027\u001b[0m     version \u001b[38;5;241m=\u001b[39m latest_versions[\u001b[38;5;241m0\u001b[39m]\u001b[38;5;241m.\u001b[39mversion\n\u001b[0;32m-> 3028\u001b[0m \u001b[38;5;28;43mself\u001b[39;49m\u001b[38;5;241;43m.\u001b[39;49m\u001b[43m_get_registry_client\u001b[49m\u001b[43m(\u001b[49m\u001b[43m)\u001b[49m\u001b[38;5;241;43m.\u001b[39;49m\u001b[43mdelete_model_version_tag\u001b[49m\u001b[43m(\u001b[49m\u001b[43mname\u001b[49m\u001b[43m,\u001b[49m\u001b[43m \u001b[49m\u001b[43mversion\u001b[49m\u001b[43m,\u001b[49m\u001b[43m \u001b[49m\u001b[43mkey\u001b[49m\u001b[43m)\u001b[49m\n",
            "File \u001b[0;32m/anaconda/envs/azureml_py310_sdkv2/lib/python3.10/site-packages/mlflow/tracking/_model_registry/client.py:330\u001b[0m, in \u001b[0;36mModelRegistryClient.delete_model_version_tag\u001b[0;34m(self, name, version, key)\u001b[0m\n\u001b[1;32m    321\u001b[0m \u001b[38;5;28;01mdef\u001b[39;00m \u001b[38;5;21mdelete_model_version_tag\u001b[39m(\u001b[38;5;28mself\u001b[39m, name, version, key):\n\u001b[1;32m    322\u001b[0m     \u001b[38;5;124;03m\"\"\"\u001b[39;00m\n\u001b[1;32m    323\u001b[0m \u001b[38;5;124;03m    Delete a tag associated with the model version.\u001b[39;00m\n\u001b[1;32m    324\u001b[0m \n\u001b[0;32m   (...)\u001b[0m\n\u001b[1;32m    328\u001b[0m \u001b[38;5;124;03m    :return: None\u001b[39;00m\n\u001b[1;32m    329\u001b[0m \u001b[38;5;124;03m    \"\"\"\u001b[39;00m\n\u001b[0;32m--> 330\u001b[0m     \u001b[38;5;28;43mself\u001b[39;49m\u001b[38;5;241;43m.\u001b[39;49m\u001b[43mstore\u001b[49m\u001b[38;5;241;43m.\u001b[39;49m\u001b[43mdelete_model_version_tag\u001b[49m\u001b[43m(\u001b[49m\u001b[43mname\u001b[49m\u001b[43m,\u001b[49m\u001b[43m \u001b[49m\u001b[43mversion\u001b[49m\u001b[43m,\u001b[49m\u001b[43m \u001b[49m\u001b[43mkey\u001b[49m\u001b[43m)\u001b[49m\n",
            "File \u001b[0;32m/anaconda/envs/azureml_py310_sdkv2/lib/python3.10/site-packages/mlflow/store/model_registry/rest_store.py:372\u001b[0m, in \u001b[0;36mRestStore.delete_model_version_tag\u001b[0;34m(self, name, version, key)\u001b[0m\n\u001b[1;32m    363\u001b[0m \u001b[38;5;124;03m\"\"\"\u001b[39;00m\n\u001b[1;32m    364\u001b[0m \u001b[38;5;124;03mDelete a tag associated with the model version.\u001b[39;00m\n\u001b[1;32m    365\u001b[0m \n\u001b[0;32m   (...)\u001b[0m\n\u001b[1;32m    369\u001b[0m \u001b[38;5;124;03m:return: None\u001b[39;00m\n\u001b[1;32m    370\u001b[0m \u001b[38;5;124;03m\"\"\"\u001b[39;00m\n\u001b[1;32m    371\u001b[0m req_body \u001b[38;5;241m=\u001b[39m message_to_json(DeleteModelVersionTag(name\u001b[38;5;241m=\u001b[39mname, version\u001b[38;5;241m=\u001b[39mversion, key\u001b[38;5;241m=\u001b[39mkey))\n\u001b[0;32m--> 372\u001b[0m \u001b[38;5;28;43mself\u001b[39;49m\u001b[38;5;241;43m.\u001b[39;49m\u001b[43m_call_endpoint\u001b[49m\u001b[43m(\u001b[49m\u001b[43mDeleteModelVersionTag\u001b[49m\u001b[43m,\u001b[49m\u001b[43m \u001b[49m\u001b[43mreq_body\u001b[49m\u001b[43m)\u001b[49m\n",
            "File \u001b[0;32m/anaconda/envs/azureml_py310_sdkv2/lib/python3.10/site-packages/mlflow/store/model_registry/rest_store.py:64\u001b[0m, in \u001b[0;36mRestStore._call_endpoint\u001b[0;34m(self, api, json_body, call_all_endpoints)\u001b[0m\n\u001b[1;32m     62\u001b[0m \u001b[38;5;28;01melse\u001b[39;00m:\n\u001b[1;32m     63\u001b[0m     endpoint, method \u001b[38;5;241m=\u001b[39m _METHOD_TO_INFO[api]\n\u001b[0;32m---> 64\u001b[0m     \u001b[38;5;28;01mreturn\u001b[39;00m \u001b[43mcall_endpoint\u001b[49m\u001b[43m(\u001b[49m\u001b[38;5;28;43mself\u001b[39;49m\u001b[38;5;241;43m.\u001b[39;49m\u001b[43mget_host_creds\u001b[49m\u001b[43m(\u001b[49m\u001b[43m)\u001b[49m\u001b[43m,\u001b[49m\u001b[43m \u001b[49m\u001b[43mendpoint\u001b[49m\u001b[43m,\u001b[49m\u001b[43m \u001b[49m\u001b[43mmethod\u001b[49m\u001b[43m,\u001b[49m\u001b[43m \u001b[49m\u001b[43mjson_body\u001b[49m\u001b[43m,\u001b[49m\u001b[43m \u001b[49m\u001b[43mresponse_proto\u001b[49m\u001b[43m)\u001b[49m\n",
            "File \u001b[0;32m/anaconda/envs/azureml_py310_sdkv2/lib/python3.10/site-packages/mlflow/utils/rest_utils.py:280\u001b[0m, in \u001b[0;36mcall_endpoint\u001b[0;34m(host_creds, endpoint, method, json_body, response_proto)\u001b[0m\n\u001b[1;32m    276\u001b[0m \u001b[38;5;28;01melse\u001b[39;00m:\n\u001b[1;32m    277\u001b[0m     response \u001b[38;5;241m=\u001b[39m http_request(\n\u001b[1;32m    278\u001b[0m         host_creds\u001b[38;5;241m=\u001b[39mhost_creds, endpoint\u001b[38;5;241m=\u001b[39mendpoint, method\u001b[38;5;241m=\u001b[39mmethod, json\u001b[38;5;241m=\u001b[39mjson_body\n\u001b[1;32m    279\u001b[0m     )\n\u001b[0;32m--> 280\u001b[0m response \u001b[38;5;241m=\u001b[39m \u001b[43mverify_rest_response\u001b[49m\u001b[43m(\u001b[49m\u001b[43mresponse\u001b[49m\u001b[43m,\u001b[49m\u001b[43m \u001b[49m\u001b[43mendpoint\u001b[49m\u001b[43m)\u001b[49m\n\u001b[1;32m    281\u001b[0m js_dict \u001b[38;5;241m=\u001b[39m json\u001b[38;5;241m.\u001b[39mloads(response\u001b[38;5;241m.\u001b[39mtext)\n\u001b[1;32m    282\u001b[0m parse_dict(js_dict\u001b[38;5;241m=\u001b[39mjs_dict, message\u001b[38;5;241m=\u001b[39mresponse_proto)\n",
            "File \u001b[0;32m/anaconda/envs/azureml_py310_sdkv2/lib/python3.10/site-packages/mlflow/utils/rest_utils.py:212\u001b[0m, in \u001b[0;36mverify_rest_response\u001b[0;34m(response, endpoint)\u001b[0m\n\u001b[1;32m    207\u001b[0m     \u001b[38;5;28;01melse\u001b[39;00m:\n\u001b[1;32m    208\u001b[0m         base_msg \u001b[38;5;241m=\u001b[39m \u001b[38;5;124m\"\u001b[39m\u001b[38;5;124mAPI request to endpoint \u001b[39m\u001b[38;5;132;01m%s\u001b[39;00m\u001b[38;5;124m failed with error code \u001b[39m\u001b[38;5;132;01m%s\u001b[39;00m\u001b[38;5;124m != 200\u001b[39m\u001b[38;5;124m\"\u001b[39m \u001b[38;5;241m%\u001b[39m (\n\u001b[1;32m    209\u001b[0m             endpoint,\n\u001b[1;32m    210\u001b[0m             response\u001b[38;5;241m.\u001b[39mstatus_code,\n\u001b[1;32m    211\u001b[0m         )\n\u001b[0;32m--> 212\u001b[0m         \u001b[38;5;28;01mraise\u001b[39;00m MlflowException(\n\u001b[1;32m    213\u001b[0m             \u001b[38;5;124m\"\u001b[39m\u001b[38;5;132;01m%s\u001b[39;00m\u001b[38;5;124m. Response body: \u001b[39m\u001b[38;5;124m'\u001b[39m\u001b[38;5;132;01m%s\u001b[39;00m\u001b[38;5;124m'\u001b[39m\u001b[38;5;124m\"\u001b[39m \u001b[38;5;241m%\u001b[39m (base_msg, response\u001b[38;5;241m.\u001b[39mtext),\n\u001b[1;32m    214\u001b[0m             error_code\u001b[38;5;241m=\u001b[39mget_error_code(response\u001b[38;5;241m.\u001b[39mstatus_code),\n\u001b[1;32m    215\u001b[0m         )\n\u001b[1;32m    217\u001b[0m \u001b[38;5;66;03m# Skip validation for endpoints (e.g. DBFS file-download API) which may return a non-JSON\u001b[39;00m\n\u001b[1;32m    218\u001b[0m \u001b[38;5;66;03m# response\u001b[39;00m\n\u001b[1;32m    219\u001b[0m \u001b[38;5;28;01mif\u001b[39;00m endpoint\u001b[38;5;241m.\u001b[39mstartswith(_REST_API_PATH_PREFIX) \u001b[38;5;129;01mand\u001b[39;00m \u001b[38;5;129;01mnot\u001b[39;00m _can_parse_as_json_object(response\u001b[38;5;241m.\u001b[39mtext):\n",
            "\u001b[0;31mMlflowException\u001b[0m: API request to endpoint /api/2.0/preview/mlflow/model-versions/delete-tag failed with error code 404 != 200. Response body: ''"
          ]
        }
      ],
      "execution_count": 21,
      "metadata": {
        "jupyter": {
          "source_hidden": false,
          "outputs_hidden": false
        },
        "nteract": {
          "transient": {
            "deleting": false
          }
        },
        "gather": {
          "logged": 1675034846984
        }
      },
      "id": "6777b083-7c8a-4bcb-9155-3b01afe21c17"
    },
    {
      "cell_type": "markdown",
      "source": [
        "You can search for an existing model in a specific workspace/registery  once you set the tracking url to that workspace/registery."
      ],
      "metadata": {
        "nteract": {
          "transient": {
            "deleting": false
          }
        }
      },
      "id": "babe7767-d144-4fc3-bf0d-67b5bad422b7"
    },
    {
      "cell_type": "code",
      "source": [
        "search_result=mlf_client.search_registered_models(f\"name='{registered_model_name}'\")\r\n",
        "\r\n",
        "print(search_result)"
      ],
      "outputs": [
        {
          "output_type": "stream",
          "name": "stdout",
          "text": "[<RegisteredModel: creation_timestamp=1675034732569, description='', last_updated_timestamp=1675034732569, latest_versions=[<ModelVersion: creation_timestamp=1675034735944, current_stage='None', description='', last_updated_timestamp=1675034779426, name='flower_model_REGISTER_WITH_MODEL_URI', run_id='f4aff1e7-2802-486e-aab4-f3e72aa10156', run_link='', source=('azureml://experiments/Promotion '\n 'Experiments/runs/f4aff1e7-2802-486e-aab4-f3e72aa10156/artifacts/flower_model_MANUAL_LOG_MODEL'), status='READY', status_message='', tags={'DV': '1', 'DW': 'amlss', 'status': 'draft'}, user_id='', version='1'>], name='flower_model_REGISTER_WITH_MODEL_URI', tags={}>]\n"
        }
      ],
      "execution_count": 22,
      "metadata": {
        "jupyter": {
          "source_hidden": false,
          "outputs_hidden": false
        },
        "nteract": {
          "transient": {
            "deleting": false
          }
        },
        "gather": {
          "logged": 1675034904166
        }
      },
      "id": "3dc20831-3893-45ea-8aac-4606229a9e37"
    },
    {
      "cell_type": "code",
      "source": [
        "for res in search_result:\r\n",
        "    for mv in res.latest_versions:\r\n",
        "        print(\"name={}; run_id={}; version={}; tags={}\".format(mv.name, mv.run_id, mv.version, mv.tags))"
      ],
      "outputs": [
        {
          "output_type": "stream",
          "name": "stdout",
          "text": "name=flower_model_REGISTER_WITH_MODEL_URI; run_id=f4aff1e7-2802-486e-aab4-f3e72aa10156; version=1; tags={'DW': 'amlss', 'DV': '1', 'status': 'draft'}\n"
        }
      ],
      "execution_count": 23,
      "metadata": {
        "jupyter": {
          "source_hidden": false,
          "outputs_hidden": false
        },
        "nteract": {
          "transient": {
            "deleting": false
          }
        },
        "gather": {
          "logged": 1675034909474
        }
      },
      "id": "ff66644c-76f5-4098-acc2-54f4301a4f8c"
    },
    {
      "cell_type": "markdown",
      "source": [
        "**4.  Register the model with REGISTER_MODEL from saved local copy**"
      ],
      "metadata": {
        "nteract": {
          "transient": {
            "deleting": false
          }
        }
      },
      "id": "3f04e5af-0be8-436f-9498-14b6947dec95"
    },
    {
      "cell_type": "markdown",
      "source": [
        "First we should have a saved copy of our model:"
      ],
      "metadata": {
        "nteract": {
          "transient": {
            "deleting": false
          }
        }
      },
      "id": "44e9baa1-a3a1-4c8a-b391-75990f701612"
    },
    {
      "cell_type": "code",
      "source": [
        "import os\r\n",
        "# # Saving the model to a file to create a local copy example\r\n",
        "model_local_path = os.path.abspath(\"./trained_model\")\r\n",
        "print(\"Saving the model via MLFlow\")\r\n",
        "mlflow.sklearn.save_model(\r\n",
        "    sk_model=sk_model,\r\n",
        "    path=model_local_path\r\n",
        ")\r\n"
      ],
      "outputs": [
        {
          "output_type": "stream",
          "name": "stdout",
          "text": "Saving the model via MLFlow\n"
        }
      ],
      "execution_count": 26,
      "metadata": {
        "jupyter": {
          "source_hidden": false,
          "outputs_hidden": false
        },
        "nteract": {
          "transient": {
            "deleting": false
          }
        },
        "gather": {
          "logged": 1675035088495
        }
      },
      "id": "7af0a284-ce96-46ea-afae-11128369c092"
    },
    {
      "cell_type": "code",
      "source": [
        "registered_model_name=f\"{model_name}_REGISTER_WITH_LOCAL_MODEL_FILE\"\r\n",
        "mlflow.register_model(f\"file://{model_local_path}\", name=registered_model_name)"
      ],
      "outputs": [
        {
          "output_type": "stream",
          "name": "stderr",
          "text": "Registered model 'flower_model_REGISTER_WITH_LOCAL_MODEL_FILE' already exists. Creating a new version of this model...\n2023/01/29 23:35:31 INFO mlflow.tracking._model_registry.client: Waiting up to 300 seconds for model version to finish creation.                     Model name: flower_model_REGISTER_WITH_LOCAL_MODEL_FILE, version 1\nCreated version '1' of model 'flower_model_REGISTER_WITH_LOCAL_MODEL_FILE'.\n"
        },
        {
          "output_type": "execute_result",
          "execution_count": 27,
          "data": {
            "text/plain": "<ModelVersion: creation_timestamp=1675035331211, current_stage='None', description='', last_updated_timestamp=1675035331211, name='flower_model_REGISTER_WITH_LOCAL_MODEL_FILE', run_id='', run_link='', source='azureml://artifacts/LocalUpload/230129T233529-b66c6e07/trained_model', status='READY', status_message='', tags={}, user_id='', version='1'>"
          },
          "metadata": {}
        }
      ],
      "execution_count": 27,
      "metadata": {
        "jupyter": {
          "source_hidden": false,
          "outputs_hidden": false
        },
        "nteract": {
          "transient": {
            "deleting": false
          }
        },
        "gather": {
          "logged": 1675035331526
        }
      },
      "id": "47f3274f-4858-42da-931d-83660038818f"
    },
    {
      "cell_type": "code",
      "source": [
        "mlflow.end_run()"
      ],
      "outputs": [],
      "execution_count": null,
      "metadata": {
        "jupyter": {
          "source_hidden": false,
          "outputs_hidden": false
        },
        "nteract": {
          "transient": {
            "deleting": false
          }
        },
        "gather": {
          "logged": 1675034384081
        }
      },
      "id": "83ddcc2f-bd46-4664-85a1-e42e49766a82"
    }
  ],
  "metadata": {
    "kernelspec": {
      "name": "python310-sdkv2",
      "language": "python",
      "display_name": "Python 3.10 - SDK V2"
    },
    "language_info": {
      "name": "python",
      "version": "3.10.6",
      "mimetype": "text/x-python",
      "codemirror_mode": {
        "name": "ipython",
        "version": 3
      },
      "pygments_lexer": "ipython3",
      "nbconvert_exporter": "python",
      "file_extension": ".py"
    },
    "vscode": {
      "interpreter": {
        "hash": "8fd340b5477ca1a0b454d48a3973beff39fee032ada47a04f6f3725b469a8988"
      }
    },
    "categories": [
      "SDK v2",
      "sdk",
      "python",
      "responsible-ai"
    ],
    "kernel_info": {
      "name": "python310-sdkv2"
    },
    "nteract": {
      "version": "nteract-front-end@1.0.0"
    },
    "microsoft": {
      "host": {
        "AzureML": {
          "notebookHasBeenCompleted": true
        }
      }
    }
  },
  "nbformat": 4,
  "nbformat_minor": 5
}
